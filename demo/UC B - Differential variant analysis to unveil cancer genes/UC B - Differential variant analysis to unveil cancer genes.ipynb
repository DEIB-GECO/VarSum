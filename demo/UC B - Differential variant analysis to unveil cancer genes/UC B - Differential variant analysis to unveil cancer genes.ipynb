{
 "cells": [
  {
   "cell_type": "markdown",
   "metadata": {
    "colab_type": "text",
    "id": "bXABiXvn9Gw3"
   },
   "source": [
    "# UC B - Differential variant analysis to unveil cancer genes\n",
    "\n",
    "Documentation: \n",
    "- http://gmql.eu/popstudy/api/ui/#/default/server.api.variants_in_region\n",
    "- http://gmql.eu/popstudy/api/ui/#/default/server.api.donor_grouping\n",
    "\n",
    "Requirements to run this demo: https://github.com/DEIB-GECO/VarSum/blob/master/demo/README_requirements\n",
    "\n",
    "Try this demo online: https://colab.research.google.com/drive/1De9nU2b-IUBAbEe11L3Y7FmeogF7V4lz?usp=sharing"
   ]
  },
  {
   "cell_type": "markdown",
   "metadata": {
    "colab_type": "text",
    "id": "FHdk0ukX9Gw5"
   },
   "source": [
    "For this demo we took inspiration from the DiffMut technique developed at Singh-Lab (credits at the end) for differential analysis between somatic mutations and germline variation profiles. Considering a set of genes supposedly involved in a specific tumoral form, in our example the skin cutaneous melanoma, we are going to ask for each of them the variants located into the corresponding genomic area for healthy and non-healthy patients.\n",
    "\n",
    "### Candidate genes"
   ]
  },
  {
   "cell_type": "code",
   "execution_count": 1,
   "metadata": {
    "colab": {},
    "colab_type": "code",
    "id": "d8IFCIMb9Gw6"
   },
   "outputs": [],
   "source": [
    "genes = ['CTSZ', 'EFEMP2', 'ITGA5', 'KDELR2', 'MDK', 'MICALL2', 'MAP2K3', 'PLAUR', 'SERPINE1', 'SOCS3']"
   ]
  },
  {
   "cell_type": "markdown",
   "metadata": {
    "colab_type": "text",
    "id": "1aMtROdg9Gw_"
   },
   "source": [
    "Some utility functions"
   ]
  },
  {
   "cell_type": "code",
   "execution_count": 2,
   "metadata": {
    "colab": {},
    "colab_type": "code",
    "id": "sn4VCCtf9GxA"
   },
   "outputs": [],
   "source": [
    "import requests\n",
    "import json\n",
    "import pandas as pd\n",
    "import csv\n",
    "from tqdm import tqdm\n",
    "from matplotlib import pyplot as plt\n",
    "import seaborn as sns\n",
    "sns.set()\n",
    "\n",
    "# make a request and check result\n",
    "def post_request(to: str, argument, print_status_code=True, print_warnings=True, timeout=None):\n",
    "    resp = requests.post(to, json=argument, timeout=timeout)\n",
    "    if print_status_code:\n",
    "        print(' response status code: {}'.format(resp.status_code))\n",
    "    res_body = resp.json()\n",
    "    if resp.status_code != 200:\n",
    "        print(res_body)\n",
    "    if print_warnings:\n",
    "        print('warnings ?: {}'.format(res_body.get('notice')))\n",
    "    return res_body\n",
    "\n",
    "\n",
    "\n",
    "# call /variants_in_region and create a list of GENE_NAME + VARIANT\n",
    "def get_variants_in_gene(genes, disease:str, in_cell_type:str) -> list:\n",
    "    req_body = {\n",
    "        'name': '!!!    WRITE HERE YOUR GENE NAME       !!!',  # gene name\n",
    "        'of': {\n",
    "            'assembly': 'GRCh38',\n",
    "            'disease': disease,\n",
    "            'having_variants': {\n",
    "                'in_cell_type': [in_cell_type]\n",
    "            }\n",
    "        }\n",
    "    }\n",
    "    # make list of genes with their variants\n",
    "    container = list()\n",
    "    for gene in tqdm(genes):\n",
    "        req_body['name'] = gene     # set gene\n",
    "        res = post_request('http://gmql.eu/popstudy/api/variants_in_region', req_body, print_status_code=False, print_warnings=False)\n",
    "        for variant in res['rows']:\n",
    "            container.append([gene] + variant)  # gene, chrom, start, ref, alt\n",
    "    return container\n",
    "\n",
    "\n",
    "\n",
    "\n",
    "# call /variant_grouping and create a list with the number of donors for each of the input gene+variants\n",
    "def get_variant_occurrence(gene_variants, disease:str, in_cell_type:str, to_csv:bool, filename:str):\n",
    "    req_body = {\n",
    "        \"having_meta\": {\n",
    "            'assembly': 'GRCh38',\n",
    "            'disease': disease\n",
    "        },\n",
    "        'having_variants': {\n",
    "            'in_cell_type': [in_cell_type]\n",
    "        },\n",
    "        \"target_variant\": {'!!!       WRITE HERE YOUR VARIANT     !!!'},\n",
    "        \"group_by\": [\"health_status\"]\n",
    "    }\n",
    "    # make list of variants with number of donors\n",
    "    var_occurrence = list()\n",
    "    for var in tqdm(gene_variants):\n",
    "        req_body['target_variant'] = {'chrom': var[1], 'start': var[2], 'ref': var[3], 'alt': var[4]}\n",
    "        res = post_request('http://gmql.eu/popstudy/api/variant_grouping', req_body, print_status_code=False, print_warnings=False)\n",
    "        this_variant_occurrence = res['rows'][0][3]\n",
    "        var_occurrence.append(var + [this_variant_occurrence])\n",
    "    if to_csv:\n",
    "        with open(filename, mode='w') as csv_file:\n",
    "            writer = csv.writer(csv_file)\n",
    "            writer.writerow(['GENE', 'CHROM', 'START', 'REF', 'ALT', 'DONORS'])\n",
    "            for row in var_occurrence:\n",
    "                writer.writerow(row)\n",
    "            csv_file.truncate()\n",
    "    return var_occurrence\n",
    "\n",
    "def get_population_size(disease:str, in_cell_type:str) -> int:\n",
    "    req_body = {\n",
    "        \"having_meta\": {\n",
    "            'assembly': 'GRCh38',\n",
    "            'disease': disease\n",
    "        },\n",
    "        'having_variants': {\n",
    "            'in_cell_type': [in_cell_type]\n",
    "        },\n",
    "        \"group_by\": [\"health_status\"]\n",
    "    }\n",
    "    res = post_request('http://gmql.eu/popstudy/api/donor_grouping', req_body, print_status_code=False, print_warnings=False)\n",
    "    return res['rows'][0][1]"
   ]
  },
  {
   "cell_type": "markdown",
   "source": [
    "## To determine which of the candidate gene are most likely associated with the development of skin cutaneous melanoma, we proceed with the following steps:\n",
    "1. Assign to each gene G a pair of scores. That is, for a cohort, the score is computed as the sum of the occurrences of every variant in gene G in the donors of the cohort. This number is then divided by the number of donors in the cohort.\n",
    "2. Rank normalize the scores. The new scores represent with a number between 0 and 1 the likelihood of mutations and variants falling within the candidate genes relatively to the cohort.\n",
    "3. Compare the rank normalized scores to find the genes where the mutation and variation profiles differ the most between the tumor cohort and the healthy cohort.\n",
    "\n",
    "In the following, we perform the first two steps separately for the tumor cohort and for the healthy cohort. We identify these steps with a number for the step number and with a letter -- T for the tumor cohort,  H for the healthy cohort.\n",
    "\n",
    "\n",
    "### 1.T\n",
    "\n",
    "    (the argument to_csv=True saves the result of such function calls into a CSV that we can read later)"
   ],
   "metadata": {
    "collapsed": false,
    "pycharm": {
     "name": "#%% md\n"
    }
   }
  },
  {
   "cell_type": "code",
   "execution_count": null,
   "outputs": [],
   "source": [
    "# # read from CSV in the next code block - OR - uncomment the following lines\n",
    "# mutations_tumor_cohort = get_variants_in_gene(\n",
    "#     genes,\n",
    "#     disease='skin cutaneous melanoma',\n",
    "#     in_cell_type='somatic')\n",
    "#\n",
    "# occurrence_mutations_tumor_cohort = get_variant_occurrence(\n",
    "#     mutations_tumor_cohort,\n",
    "#     disease='skin cutaneous melanoma',\n",
    "#     in_cell_type='somatic',\n",
    "#     to_csv=True,\n",
    "#     filename='occurrence_mutations_tumor_cohort_UC_B.csv')\n",
    "# occurrence_mutations_tumor_cohort_df = pd.DataFrame.from_records(occurrence_mutations_tumor_cohort, columns=['GENE', 'CHROM', 'START', 'REF', 'ALT', 'DONORS'])\n",
    "# occurrence_mutations_tumor_cohort_df"
   ],
   "metadata": {
    "collapsed": false,
    "pycharm": {
     "name": "#%%\n"
    }
   }
  },
  {
   "cell_type": "code",
   "execution_count": null,
   "outputs": [],
   "source": [
    "occurrence_mutations_tumor_cohort_df = pd.read_csv('occurrence_mutations_tumor_cohort_UC_B.csv')\n",
    "occurrence_mutations_tumor_cohort_df"
   ],
   "metadata": {
    "collapsed": false,
    "pycharm": {
     "name": "#%%\n"
    }
   }
  },
  {
   "cell_type": "code",
   "execution_count": 6,
   "metadata": {
    "colab": {},
    "colab_type": "code",
    "id": "CKmRWMvx9GxU",
    "outputId": "a43c48b4-3fe3-4bc6-d3d3-0ef7a9776f18"
   },
   "outputs": [
    {
     "data": {
      "text/plain": "       GENE  SCORE(NOT_NORM)\n0     ITGA5         0.098291\n1   MICALL2         0.053419\n2  SERPINE1         0.023504\n3     PLAUR         0.019231\n4    EFEMP2         0.017094\n5    MAP2K3         0.014957\n6     SOCS3         0.010684\n7    KDELR2         0.008547\n8      CTSZ         0.004274\n9       MDK         0.002137",
      "text/html": "<div>\n<style scoped>\n    .dataframe tbody tr th:only-of-type {\n        vertical-align: middle;\n    }\n\n    .dataframe tbody tr th {\n        vertical-align: top;\n    }\n\n    .dataframe thead th {\n        text-align: right;\n    }\n</style>\n<table border=\"1\" class=\"dataframe\">\n  <thead>\n    <tr style=\"text-align: right;\">\n      <th></th>\n      <th>GENE</th>\n      <th>SCORE(NOT_NORM)</th>\n    </tr>\n  </thead>\n  <tbody>\n    <tr>\n      <th>0</th>\n      <td>ITGA5</td>\n      <td>0.098291</td>\n    </tr>\n    <tr>\n      <th>1</th>\n      <td>MICALL2</td>\n      <td>0.053419</td>\n    </tr>\n    <tr>\n      <th>2</th>\n      <td>SERPINE1</td>\n      <td>0.023504</td>\n    </tr>\n    <tr>\n      <th>3</th>\n      <td>PLAUR</td>\n      <td>0.019231</td>\n    </tr>\n    <tr>\n      <th>4</th>\n      <td>EFEMP2</td>\n      <td>0.017094</td>\n    </tr>\n    <tr>\n      <th>5</th>\n      <td>MAP2K3</td>\n      <td>0.014957</td>\n    </tr>\n    <tr>\n      <th>6</th>\n      <td>SOCS3</td>\n      <td>0.010684</td>\n    </tr>\n    <tr>\n      <th>7</th>\n      <td>KDELR2</td>\n      <td>0.008547</td>\n    </tr>\n    <tr>\n      <th>8</th>\n      <td>CTSZ</td>\n      <td>0.004274</td>\n    </tr>\n    <tr>\n      <th>9</th>\n      <td>MDK</td>\n      <td>0.002137</td>\n    </tr>\n  </tbody>\n</table>\n</div>"
     },
     "execution_count": 6,
     "metadata": {},
     "output_type": "execute_result"
    }
   ],
   "source": [
    "df2 = occurrence_mutations_tumor_cohort_df \\\n",
    ".groupby(['GENE'])['DONORS'].sum().reset_index(name='SCORE(NOT_NORM)') \\\n",
    ".sort_values('SCORE(NOT_NORM)', ascending=False) \\\n",
    ".reset_index(drop=True)\n",
    "# divide the SCORE by the population size\n",
    "df2['SCORE(NOT_NORM)'] = df2['SCORE(NOT_NORM)'].div(get_population_size(disease='skin cutaneous melanoma', in_cell_type='somatic'))\n",
    "df2"
   ]
  },
  {
   "cell_type": "markdown",
   "metadata": {
    "colab_type": "text",
    "id": "-B150zuN9Gxa"
   },
   "source": [
    "### 2.T Rank normalize the gene score in tumor cohort"
   ]
  },
  {
   "cell_type": "code",
   "execution_count": 7,
   "metadata": {
    "colab": {},
    "colab_type": "code",
    "id": "As8Fvk1N9Gxb",
    "outputId": "b60a3198-2039-47dc-efe1-ee7facc3747a"
   },
   "outputs": [
    {
     "data": {
      "text/plain": "       GENE  SCORE(NOT_NORM)  VARIANT_SCORE\n0     ITGA5         0.098291       1.000000\n1   MICALL2         0.053419       0.543478\n2  SERPINE1         0.023504       0.239130\n3     PLAUR         0.019231       0.195652\n4    EFEMP2         0.017094       0.173913\n5    MAP2K3         0.014957       0.152174\n6     SOCS3         0.010684       0.108696\n7    KDELR2         0.008547       0.086957\n8      CTSZ         0.004274       0.043478\n9       MDK         0.002137       0.021739",
      "text/html": "<div>\n<style scoped>\n    .dataframe tbody tr th:only-of-type {\n        vertical-align: middle;\n    }\n\n    .dataframe tbody tr th {\n        vertical-align: top;\n    }\n\n    .dataframe thead th {\n        text-align: right;\n    }\n</style>\n<table border=\"1\" class=\"dataframe\">\n  <thead>\n    <tr style=\"text-align: right;\">\n      <th></th>\n      <th>GENE</th>\n      <th>SCORE(NOT_NORM)</th>\n      <th>VARIANT_SCORE</th>\n    </tr>\n  </thead>\n  <tbody>\n    <tr>\n      <th>0</th>\n      <td>ITGA5</td>\n      <td>0.098291</td>\n      <td>1.000000</td>\n    </tr>\n    <tr>\n      <th>1</th>\n      <td>MICALL2</td>\n      <td>0.053419</td>\n      <td>0.543478</td>\n    </tr>\n    <tr>\n      <th>2</th>\n      <td>SERPINE1</td>\n      <td>0.023504</td>\n      <td>0.239130</td>\n    </tr>\n    <tr>\n      <th>3</th>\n      <td>PLAUR</td>\n      <td>0.019231</td>\n      <td>0.195652</td>\n    </tr>\n    <tr>\n      <th>4</th>\n      <td>EFEMP2</td>\n      <td>0.017094</td>\n      <td>0.173913</td>\n    </tr>\n    <tr>\n      <th>5</th>\n      <td>MAP2K3</td>\n      <td>0.014957</td>\n      <td>0.152174</td>\n    </tr>\n    <tr>\n      <th>6</th>\n      <td>SOCS3</td>\n      <td>0.010684</td>\n      <td>0.108696</td>\n    </tr>\n    <tr>\n      <th>7</th>\n      <td>KDELR2</td>\n      <td>0.008547</td>\n      <td>0.086957</td>\n    </tr>\n    <tr>\n      <th>8</th>\n      <td>CTSZ</td>\n      <td>0.004274</td>\n      <td>0.043478</td>\n    </tr>\n    <tr>\n      <th>9</th>\n      <td>MDK</td>\n      <td>0.002137</td>\n      <td>0.021739</td>\n    </tr>\n  </tbody>\n</table>\n</div>"
     },
     "execution_count": 7,
     "metadata": {},
     "output_type": "execute_result"
    }
   ],
   "source": [
    "max_mut = df2['SCORE(NOT_NORM)'][0]\n",
    "df2['VARIANT_SCORE'] = df2.apply(lambda r: r['SCORE(NOT_NORM)']/max_mut, axis=1)\n",
    "\n",
    "##  PLOT\n",
    "#pd.pivot_table(df2.drop(['SCORE'], axis=1), index='GENE').plot(\n",
    "#    kind='bar',\n",
    "#    figsize=(6, 4),\n",
    "#    legend=False\n",
    "#)\n",
    "#plt.title('Normalized score of somatic mutations in patients with skin cutaneous melanoma')\n",
    "#plt.ylabel('RANK NORMALIZED SCORE ')\n",
    "#plt.show()\n",
    "\n",
    "df2"
   ]
  },
  {
   "cell_type": "markdown",
   "metadata": {
    "colab_type": "text",
    "id": "c3UYcVTx9Gxf"
   },
   "source": [
    "### 1.H Gene scores in healthy cohort"
   ]
  },
  {
   "cell_type": "code",
   "execution_count": 9,
   "metadata": {},
   "outputs": [],
   "source": [
    "# # read from CSV in the next code block - OR - uncomment the following lines\n",
    "# variants_healthy_cohort = get_variants_in_gene(genes, disease='none', in_cell_type='germline')\n",
    "#\n",
    "# occurrence_variants_healthy_cohort = get_variant_occurrence(\n",
    "#     variants_healthy_cohort,\n",
    "#     disease='none',\n",
    "#     in_cell_type='germline',\n",
    "#     to_csv=True,\n",
    "#     filename='occurrence_variants_healthy_cohort_UC_B.csv')\n",
    "# occurrence_variants_healthy_cohort_df = pd.DataFrame.from_records(occurrence_variants_healthy_cohort, columns=['GENE', 'CHROM', 'START', 'REF', 'ALT', 'DONORS'])\n",
    "# occurrence_variants_healthy_cohort_df"
   ]
  },
  {
   "cell_type": "code",
   "execution_count": 10,
   "metadata": {
    "colab": {},
    "colab_type": "code",
    "id": "wvd5WKnn9Gxk",
    "outputId": "957451b8-274e-4b02-873a-09433674bf26"
   },
   "outputs": [
    {
     "data": {
      "text/plain": "       GENE  CHROM     START REF ALT  DONORS\n0      CTSZ     20  58995188   G   A       7\n1      CTSZ     20  58995206   T   C       3\n2      CTSZ     20  58995237   A   T       1\n3      CTSZ     20  58995263   G   C       1\n4      CTSZ     20  58995266   T   G       3\n...     ...    ...       ...  ..  ..     ...\n6130  SOCS3     17  78359985   C   A      47\n6131  SOCS3     17  78360014   T   G    4490\n6132  SOCS3     17  78360016   G   T      28\n6133  SOCS3     17  78360017   C   T      28\n6134  SOCS3     17  78360021   T   G       5\n\n[6135 rows x 6 columns]",
      "text/html": "<div>\n<style scoped>\n    .dataframe tbody tr th:only-of-type {\n        vertical-align: middle;\n    }\n\n    .dataframe tbody tr th {\n        vertical-align: top;\n    }\n\n    .dataframe thead th {\n        text-align: right;\n    }\n</style>\n<table border=\"1\" class=\"dataframe\">\n  <thead>\n    <tr style=\"text-align: right;\">\n      <th></th>\n      <th>GENE</th>\n      <th>CHROM</th>\n      <th>START</th>\n      <th>REF</th>\n      <th>ALT</th>\n      <th>DONORS</th>\n    </tr>\n  </thead>\n  <tbody>\n    <tr>\n      <th>0</th>\n      <td>CTSZ</td>\n      <td>20</td>\n      <td>58995188</td>\n      <td>G</td>\n      <td>A</td>\n      <td>7</td>\n    </tr>\n    <tr>\n      <th>1</th>\n      <td>CTSZ</td>\n      <td>20</td>\n      <td>58995206</td>\n      <td>T</td>\n      <td>C</td>\n      <td>3</td>\n    </tr>\n    <tr>\n      <th>2</th>\n      <td>CTSZ</td>\n      <td>20</td>\n      <td>58995237</td>\n      <td>A</td>\n      <td>T</td>\n      <td>1</td>\n    </tr>\n    <tr>\n      <th>3</th>\n      <td>CTSZ</td>\n      <td>20</td>\n      <td>58995263</td>\n      <td>G</td>\n      <td>C</td>\n      <td>1</td>\n    </tr>\n    <tr>\n      <th>4</th>\n      <td>CTSZ</td>\n      <td>20</td>\n      <td>58995266</td>\n      <td>T</td>\n      <td>G</td>\n      <td>3</td>\n    </tr>\n    <tr>\n      <th>...</th>\n      <td>...</td>\n      <td>...</td>\n      <td>...</td>\n      <td>...</td>\n      <td>...</td>\n      <td>...</td>\n    </tr>\n    <tr>\n      <th>6130</th>\n      <td>SOCS3</td>\n      <td>17</td>\n      <td>78359985</td>\n      <td>C</td>\n      <td>A</td>\n      <td>47</td>\n    </tr>\n    <tr>\n      <th>6131</th>\n      <td>SOCS3</td>\n      <td>17</td>\n      <td>78360014</td>\n      <td>T</td>\n      <td>G</td>\n      <td>4490</td>\n    </tr>\n    <tr>\n      <th>6132</th>\n      <td>SOCS3</td>\n      <td>17</td>\n      <td>78360016</td>\n      <td>G</td>\n      <td>T</td>\n      <td>28</td>\n    </tr>\n    <tr>\n      <th>6133</th>\n      <td>SOCS3</td>\n      <td>17</td>\n      <td>78360017</td>\n      <td>C</td>\n      <td>T</td>\n      <td>28</td>\n    </tr>\n    <tr>\n      <th>6134</th>\n      <td>SOCS3</td>\n      <td>17</td>\n      <td>78360021</td>\n      <td>T</td>\n      <td>G</td>\n      <td>5</td>\n    </tr>\n  </tbody>\n</table>\n<p>6135 rows × 6 columns</p>\n</div>"
     },
     "execution_count": 10,
     "metadata": {},
     "output_type": "execute_result"
    }
   ],
   "source": [
    "occurrence_variants_healthy_cohort_df = pd.read_csv('occurrence_variants_healthy_cohort_UC_B.csv')\n",
    "occurrence_variants_healthy_cohort_df"
   ]
  },
  {
   "cell_type": "code",
   "execution_count": 11,
   "metadata": {
    "colab": {},
    "colab_type": "code",
    "id": "PJoUhhPH9Gxp",
    "outputId": "870f9583-f8e7-4bbb-8d5d-c9180990e0c1",
    "scrolled": true
   },
   "outputs": [
    {
     "data": {
      "text/plain": "       GENE  SCORE(NOT_NORM)\n0    KDELR2       120.695840\n1    MAP2K3        71.882653\n2      CTSZ        51.972135\n3   MICALL2        49.826923\n4     PLAUR        42.000000\n5  SERPINE1        39.756672\n6     ITGA5        18.279042\n7    EFEMP2        12.504710\n8     SOCS3         5.186028\n9       MDK         1.388148",
      "text/html": "<div>\n<style scoped>\n    .dataframe tbody tr th:only-of-type {\n        vertical-align: middle;\n    }\n\n    .dataframe tbody tr th {\n        vertical-align: top;\n    }\n\n    .dataframe thead th {\n        text-align: right;\n    }\n</style>\n<table border=\"1\" class=\"dataframe\">\n  <thead>\n    <tr style=\"text-align: right;\">\n      <th></th>\n      <th>GENE</th>\n      <th>SCORE(NOT_NORM)</th>\n    </tr>\n  </thead>\n  <tbody>\n    <tr>\n      <th>0</th>\n      <td>KDELR2</td>\n      <td>120.695840</td>\n    </tr>\n    <tr>\n      <th>1</th>\n      <td>MAP2K3</td>\n      <td>71.882653</td>\n    </tr>\n    <tr>\n      <th>2</th>\n      <td>CTSZ</td>\n      <td>51.972135</td>\n    </tr>\n    <tr>\n      <th>3</th>\n      <td>MICALL2</td>\n      <td>49.826923</td>\n    </tr>\n    <tr>\n      <th>4</th>\n      <td>PLAUR</td>\n      <td>42.000000</td>\n    </tr>\n    <tr>\n      <th>5</th>\n      <td>SERPINE1</td>\n      <td>39.756672</td>\n    </tr>\n    <tr>\n      <th>6</th>\n      <td>ITGA5</td>\n      <td>18.279042</td>\n    </tr>\n    <tr>\n      <th>7</th>\n      <td>EFEMP2</td>\n      <td>12.504710</td>\n    </tr>\n    <tr>\n      <th>8</th>\n      <td>SOCS3</td>\n      <td>5.186028</td>\n    </tr>\n    <tr>\n      <th>9</th>\n      <td>MDK</td>\n      <td>1.388148</td>\n    </tr>\n  </tbody>\n</table>\n</div>"
     },
     "execution_count": 11,
     "metadata": {},
     "output_type": "execute_result"
    }
   ],
   "source": [
    "df3 = occurrence_variants_healthy_cohort_df \\\n",
    ".groupby(['GENE'])['DONORS'].sum().reset_index(name='SCORE(NOT_NORM)') \\\n",
    ".sort_values('SCORE(NOT_NORM)', ascending=False) \\\n",
    ".reset_index(drop=True)\n",
    "# divide the SCORE by the population size\n",
    "df3['SCORE(NOT_NORM)'] = df3['SCORE(NOT_NORM)'].div(get_population_size(disease='none', in_cell_type='germline'))\n",
    "df3"
   ]
  },
  {
   "cell_type": "markdown",
   "metadata": {
    "colab_type": "text",
    "id": "F48VgJOQ9Gxw"
   },
   "source": [
    "### 2.H Rank normalize the gene score in healthy cohort"
   ]
  },
  {
   "cell_type": "code",
   "execution_count": 12,
   "metadata": {
    "colab": {},
    "colab_type": "code",
    "id": "5t5-5gp49Gxw",
    "outputId": "3e4584ef-d144-4269-8a2a-cc84212ee049"
   },
   "outputs": [
    {
     "data": {
      "text/plain": "       GENE  SCORE(NOT_NORM)  VARIANT_SCORE\n0    KDELR2       120.695840       1.000000\n1    MAP2K3        71.882653       0.595569\n2      CTSZ        51.972135       0.430604\n3   MICALL2        49.826923       0.412830\n4     PLAUR        42.000000       0.347982\n5  SERPINE1        39.756672       0.329396\n6     ITGA5        18.279042       0.151447\n7    EFEMP2        12.504710       0.103605\n8     SOCS3         5.186028       0.042968\n9       MDK         1.388148       0.011501",
      "text/html": "<div>\n<style scoped>\n    .dataframe tbody tr th:only-of-type {\n        vertical-align: middle;\n    }\n\n    .dataframe tbody tr th {\n        vertical-align: top;\n    }\n\n    .dataframe thead th {\n        text-align: right;\n    }\n</style>\n<table border=\"1\" class=\"dataframe\">\n  <thead>\n    <tr style=\"text-align: right;\">\n      <th></th>\n      <th>GENE</th>\n      <th>SCORE(NOT_NORM)</th>\n      <th>VARIANT_SCORE</th>\n    </tr>\n  </thead>\n  <tbody>\n    <tr>\n      <th>0</th>\n      <td>KDELR2</td>\n      <td>120.695840</td>\n      <td>1.000000</td>\n    </tr>\n    <tr>\n      <th>1</th>\n      <td>MAP2K3</td>\n      <td>71.882653</td>\n      <td>0.595569</td>\n    </tr>\n    <tr>\n      <th>2</th>\n      <td>CTSZ</td>\n      <td>51.972135</td>\n      <td>0.430604</td>\n    </tr>\n    <tr>\n      <th>3</th>\n      <td>MICALL2</td>\n      <td>49.826923</td>\n      <td>0.412830</td>\n    </tr>\n    <tr>\n      <th>4</th>\n      <td>PLAUR</td>\n      <td>42.000000</td>\n      <td>0.347982</td>\n    </tr>\n    <tr>\n      <th>5</th>\n      <td>SERPINE1</td>\n      <td>39.756672</td>\n      <td>0.329396</td>\n    </tr>\n    <tr>\n      <th>6</th>\n      <td>ITGA5</td>\n      <td>18.279042</td>\n      <td>0.151447</td>\n    </tr>\n    <tr>\n      <th>7</th>\n      <td>EFEMP2</td>\n      <td>12.504710</td>\n      <td>0.103605</td>\n    </tr>\n    <tr>\n      <th>8</th>\n      <td>SOCS3</td>\n      <td>5.186028</td>\n      <td>0.042968</td>\n    </tr>\n    <tr>\n      <th>9</th>\n      <td>MDK</td>\n      <td>1.388148</td>\n      <td>0.011501</td>\n    </tr>\n  </tbody>\n</table>\n</div>"
     },
     "execution_count": 12,
     "metadata": {},
     "output_type": "execute_result"
    }
   ],
   "source": [
    "max_var = df3['SCORE(NOT_NORM)'][0]\n",
    "df3['VARIANT_SCORE'] = df3.apply(lambda r: r['SCORE(NOT_NORM)']/max_var, axis=1)\n",
    "\n",
    "#   PLOT\n",
    "#pd.pivot_table(df3.drop(['SCORE'], axis=1), index='GENE').plot(\n",
    "#    kind='bar',\n",
    "#    figsize=(8, 4),\n",
    "#    legend=False\n",
    "#)\n",
    "#plt.title('Normalized score of germline variants in healthy donors per gene')\n",
    "#plt.ylabel('RANK NORMALIZED SCORE ')\n",
    "#plt.show()\n",
    "\n",
    "df3"
   ]
  },
  {
   "cell_type": "markdown",
   "metadata": {
    "colab_type": "text",
    "id": "VpE_xuTx9Gx0"
   },
   "source": [
    "### 3. We can now compare the rank normalized score of each gene between the healthy and the tumor cohorts."
   ]
  },
  {
   "cell_type": "code",
   "execution_count": 13,
   "outputs": [
    {
     "data": {
      "text/plain": "       GENE  SCORE(NOT_NORM)_HEALTHY  VARIANT_SCORE_HEALTHY  \\\n6     ITGA5                18.279042               0.151447   \n3   MICALL2                49.826923               0.412830   \n7    EFEMP2                12.504710               0.103605   \n8     SOCS3                 5.186028               0.042968   \n9       MDK                 1.388148               0.011501   \n5  SERPINE1                39.756672               0.329396   \n4     PLAUR                42.000000               0.347982   \n2      CTSZ                51.972135               0.430604   \n1    MAP2K3                71.882653               0.595569   \n0    KDELR2               120.695840               1.000000   \n\n   SCORE(NOT_NORM)_TUMOR  VARIANT_SCORE_TUMOR  DISTANCE  \n6               0.098291             1.000000  0.848553  \n3               0.053419             0.543478  0.130648  \n7               0.017094             0.173913  0.070308  \n8               0.010684             0.108696  0.065728  \n9               0.002137             0.021739  0.010238  \n5               0.023504             0.239130 -0.090265  \n4               0.019231             0.195652 -0.152330  \n2               0.004274             0.043478 -0.387126  \n1               0.014957             0.152174 -0.443395  \n0               0.008547             0.086957 -0.913043  ",
      "text/html": "<div>\n<style scoped>\n    .dataframe tbody tr th:only-of-type {\n        vertical-align: middle;\n    }\n\n    .dataframe tbody tr th {\n        vertical-align: top;\n    }\n\n    .dataframe thead th {\n        text-align: right;\n    }\n</style>\n<table border=\"1\" class=\"dataframe\">\n  <thead>\n    <tr style=\"text-align: right;\">\n      <th></th>\n      <th>GENE</th>\n      <th>SCORE(NOT_NORM)_HEALTHY</th>\n      <th>VARIANT_SCORE_HEALTHY</th>\n      <th>SCORE(NOT_NORM)_TUMOR</th>\n      <th>VARIANT_SCORE_TUMOR</th>\n      <th>DISTANCE</th>\n    </tr>\n  </thead>\n  <tbody>\n    <tr>\n      <th>6</th>\n      <td>ITGA5</td>\n      <td>18.279042</td>\n      <td>0.151447</td>\n      <td>0.098291</td>\n      <td>1.000000</td>\n      <td>0.848553</td>\n    </tr>\n    <tr>\n      <th>3</th>\n      <td>MICALL2</td>\n      <td>49.826923</td>\n      <td>0.412830</td>\n      <td>0.053419</td>\n      <td>0.543478</td>\n      <td>0.130648</td>\n    </tr>\n    <tr>\n      <th>7</th>\n      <td>EFEMP2</td>\n      <td>12.504710</td>\n      <td>0.103605</td>\n      <td>0.017094</td>\n      <td>0.173913</td>\n      <td>0.070308</td>\n    </tr>\n    <tr>\n      <th>8</th>\n      <td>SOCS3</td>\n      <td>5.186028</td>\n      <td>0.042968</td>\n      <td>0.010684</td>\n      <td>0.108696</td>\n      <td>0.065728</td>\n    </tr>\n    <tr>\n      <th>9</th>\n      <td>MDK</td>\n      <td>1.388148</td>\n      <td>0.011501</td>\n      <td>0.002137</td>\n      <td>0.021739</td>\n      <td>0.010238</td>\n    </tr>\n    <tr>\n      <th>5</th>\n      <td>SERPINE1</td>\n      <td>39.756672</td>\n      <td>0.329396</td>\n      <td>0.023504</td>\n      <td>0.239130</td>\n      <td>-0.090265</td>\n    </tr>\n    <tr>\n      <th>4</th>\n      <td>PLAUR</td>\n      <td>42.000000</td>\n      <td>0.347982</td>\n      <td>0.019231</td>\n      <td>0.195652</td>\n      <td>-0.152330</td>\n    </tr>\n    <tr>\n      <th>2</th>\n      <td>CTSZ</td>\n      <td>51.972135</td>\n      <td>0.430604</td>\n      <td>0.004274</td>\n      <td>0.043478</td>\n      <td>-0.387126</td>\n    </tr>\n    <tr>\n      <th>1</th>\n      <td>MAP2K3</td>\n      <td>71.882653</td>\n      <td>0.595569</td>\n      <td>0.014957</td>\n      <td>0.152174</td>\n      <td>-0.443395</td>\n    </tr>\n    <tr>\n      <th>0</th>\n      <td>KDELR2</td>\n      <td>120.695840</td>\n      <td>1.000000</td>\n      <td>0.008547</td>\n      <td>0.086957</td>\n      <td>-0.913043</td>\n    </tr>\n  </tbody>\n</table>\n</div>"
     },
     "execution_count": 13,
     "metadata": {},
     "output_type": "execute_result"
    },
    {
     "data": {
      "text/plain": "<Figure size 1080x576 with 1 Axes>",
      "image/png": "[encoded data removed]"
     },
     "metadata": {},
     "output_type": "display_data"
    }
   ],
   "source": [
    "df4 = pd.merge(df3, df2, how='left', on=['GENE'], suffixes=('_HEALTHY', '_TUMOR'))\n",
    "df4['DISTANCE'] = df4.apply(lambda r: r['VARIANT_SCORE_TUMOR'] - r['VARIANT_SCORE_HEALTHY'], axis=1)\n",
    "df4.sort_values('DISTANCE', ascending=False, inplace=True)\n",
    "# plot\n",
    "df4_2 = df4.drop(['SCORE(NOT_NORM)_HEALTHY', 'SCORE(NOT_NORM)_TUMOR'], axis=1)\n",
    "df4_2 = pd.pivot_table(df4_2, index='GENE').sort_values('DISTANCE', ascending=False)\n",
    "df4_2 = df4_2[['DISTANCE',\n",
    "               'VARIANT_SCORE_TUMOR', 'VARIANT_SCORE_HEALTHY']]\n",
    "df4_2.plot(\n",
    "    kind='bar',\n",
    "    figsize=(15, 8),\n",
    "    legend=True\n",
    ")\n",
    "plt.title('Comparison of the variant scores in each gene', fontsize=22)\n",
    "plt.xlabel(\"GENES\", fontsize=18)\n",
    "plt.xticks(rotation=45, fontsize=16)\n",
    "plt.yticks(fontsize=16)\n",
    "plt.legend(['DIFFERENCE',\n",
    "            'VARIANT_SCORE_TUMOR', 'VARIANT_SCORE_HEALTHY'], loc=3, fontsize=14)\n",
    "plt.show()\n",
    "# table\n",
    "df4"
   ],
   "metadata": {
    "collapsed": false,
    "pycharm": {
     "name": "#%%\n"
    }
   }
  },
  {
   "cell_type": "markdown",
   "metadata": {
    "colab_type": "text",
    "id": "0tk1mP0T9Gx5"
   },
   "source": [
    "### The comparison of the germline variation and somatic mutation profiles shows that ITGA5 is likely to be functionally related to the growth of skin cutaneous mealnoma. \n",
    "By the way, the articles cited below reinforce this conclusion and the effectiveness of the method used to identify genes related to a particular tumor form."
   ]
  },
  {
   "cell_type": "markdown",
   "metadata": {
    "colab_type": "text",
    "id": "vIPGA2TX9Gx6"
   },
   "source": [
    "References:\n",
    "- Przytycki, P. F., & Singh, M. (2017). Differential analysis between somatic mutation and germline variation profiles reveals cancer-related genes. Genome medicine, 9(1), 79. https://doi.org/10.1186/s13073-017-0465-6\n",
    "- Nurzat, Y., Su, W., Min, P., Li, K., Xu, H., & Zhang, Y. (2021). Identification of therapeutic targets and prognostic biomarkers among integrin subunits in the skin cutaneous melanoma microenvironment. Frontiers in Oncology, 11, 751875."
   ]
  }
 ],
 "metadata": {
  "colab": {
   "collapsed_sections": [],
   "name": "differential analysis - 2 -  to unveil genes involved in cancer development.ipynb",
   "provenance": []
  },
  "kernelspec": {
   "display_name": "Python 3",
   "language": "python",
   "name": "python3"
  },
  "language_info": {
   "codemirror_mode": {
    "name": "ipython",
    "version": 3
   },
   "file_extension": ".py",
   "mimetype": "text/x-python",
   "name": "python",
   "nbconvert_exporter": "python",
   "pygments_lexer": "ipython3",
   "version": "3.7.6-final"
  }
 },
 "nbformat": 4,
 "nbformat_minor": 0
}
