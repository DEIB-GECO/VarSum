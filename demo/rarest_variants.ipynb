{
 "cells": [
  {
   "cell_type": "markdown",
   "metadata": {},
   "source": [
    "# Demo of endpoint rarest_variants\n",
    "\n",
    "Documentation: \n",
    "- http://geco.deib.polimi.it/popstudy/api/ui/#/default/server.api.rarest_variants\n",
    "- http://geco.deib.polimi.it/popstudy/api/ui/#/default/server.api.donor_distribution\n",
    "\n",
    "Requirements to run this demo: https://github.com/tomalf2/data_summarization_1KGP/blob/master/demo/README_requirements\n",
    "\n",
    "Try this demo online: https://colab.research.google.com/drive/1v5ZFDh1KyHjs9ItN-zr4jOTNbhyHVrDK"
   ]
  },
  {
   "cell_type": "code",
   "execution_count": null,
   "metadata": {},
   "outputs": [],
   "source": []
  },
  {
   "cell_type": "markdown",
   "metadata": {},
   "source": [
    "In this demo, we're going to ask for the rarest variants found in a population composed of female healthy individuals from East Asian countries and having the two variants - described as a tuple (chromosome)-(start)-(reference allele)-(alternative allele):\n",
    "\n",
    " 1-13272-G-C \n",
    "\n",
    " 1-10177--C \n",
    " \n",
    " aligned on assembly hg19. \n",
    " So let's begin by building the body parameters selecting this population."
   ]
  },
  {
   "cell_type": "code",
   "execution_count": 1,
   "metadata": {},
   "outputs": [],
   "source": [
    "import json\n",
    "population = {\n",
    "    'having_meta': {\n",
    "        'health_status': \"true\",\n",
    "        'population': ['BEB'],\n",
    "        'gender': 'female',\n",
    "        'assembly': 'hg19'\n",
    "        },\n",
    "    'having_variants': {\n",
    "        'with': [\n",
    "            {'chrom': 1, 'start': 10177, 'ref': '', 'alt': 'C'},\n",
    "            {'chrom': 1, 'start': 13272, 'ref': 'G', 'alt': 'C'},\n",
    "            ]\n",
    "    }\n",
    "}"
   ]
  },
  {
   "cell_type": "markdown",
   "metadata": {},
   "source": [
    "# Considerations and preliminary operations\n",
    "\n",
    "Since the endpoints \\rarest_variants and \\most_common_variants require to analyze millions of variants (about 4.5 millions for each individual), they can take some time to return a response. So before sending our request, let's check the population size with the help of the endpoint \\donor_distribution. Remember that \\donor_distribution needs also the mandatory attribute distribute_by."
   ]
  },
  {
   "cell_type": "code",
   "execution_count": 2,
   "metadata": {},
   "outputs": [],
   "source": [
    "dd_param = population.copy()\n",
    "# distribute_by accepts a list of names. We randomly chose gender but other attributes are acceptable too, either fixed or non-fixed attributes.\n",
    "dd_param['distribute_by'] = ['gender'] "
   ]
  },
  {
   "cell_type": "markdown",
   "metadata": {},
   "source": [
    "Send the request parameters to \\donor_distribution and inspect the response_body"
   ]
  },
  {
   "cell_type": "code",
   "execution_count": 3,
   "metadata": {},
   "outputs": [
    {
     "output_type": "stream",
     "name": "stdout",
     "text": "response status code: 200\n"
    },
    {
     "output_type": "execute_result",
     "data": {
      "text/plain": "   GENDER  DONORS\n0     ANY       7\n1  female       7",
      "text/html": "<div>\n<style scoped>\n    .dataframe tbody tr th:only-of-type {\n        vertical-align: middle;\n    }\n\n    .dataframe tbody tr th {\n        vertical-align: top;\n    }\n\n    .dataframe thead th {\n        text-align: right;\n    }\n</style>\n<table border=\"1\" class=\"dataframe\">\n  <thead>\n    <tr style=\"text-align: right;\">\n      <th></th>\n      <th>GENDER</th>\n      <th>DONORS</th>\n    </tr>\n  </thead>\n  <tbody>\n    <tr>\n      <th>0</th>\n      <td>ANY</td>\n      <td>7</td>\n    </tr>\n    <tr>\n      <th>1</th>\n      <td>female</td>\n      <td>7</td>\n    </tr>\n  </tbody>\n</table>\n</div>"
     },
     "metadata": {},
     "execution_count": 3
    }
   ],
   "source": [
    "import requests\n",
    "import pandas as pd\n",
    "from matplotlib import pyplot as plt\n",
    "\n",
    "donors_request = requests.post('http://geco.deib.polimi.it/popstudy/api/donor_distribution', json=dd_param)\n",
    "print(' response status code: {}'.format(donors_request.status_code))\n",
    "dd_response_body = donors_request.json()\n",
    "# inspect the result\n",
    "dd_df = pd.DataFrame.from_records(dd_response_body['rows'], columns=dd_response_body['columns'])\n",
    "dd_df.fillna(value='ANY', inplace=True)    # replaces Nones (== any value) with 'ANY'\n",
    "dd_df"
   ]
  },
  {
   "cell_type": "markdown",
   "metadata": {},
   "source": [
    "We just show that the population considered in this example contains 7 individuals, which means that the API is going to analyze ⁓28 millions variants. As you can imagine, finding the rarest variants in this set, requires some time. In this case it will take ~1m to answer the request (execution time can be estimated roughly as 8 sec * < size of population >). If you wish to reduce further the population size, you can add constraints, for example on the DNA source type (blood/lcl), or also increase the region constraints.\n",
    "\n",
    "# Find the rarest variants\n",
    "\n",
    "Continuing with the initial goal, we are going to POST \\rarest_variants. Before doing so, add a few more parameters (optional) saying to return the 30 rarest variants from each genomic variation data source and to filter out the variants having frequency less than 0.99%."
   ]
  },
  {
   "cell_type": "code",
   "execution_count": 4,
   "metadata": {},
   "outputs": [
    {
     "output_type": "stream",
     "name": "stdout",
     "text": "response status code: 200\n"
    }
   ],
   "source": [
    "rv_param = population.copy()\n",
    "rv_param['filter_output'] = {\n",
    "    'limit': 30,\n",
    "    'min_frequency': 0.0099\n",
    "}\n",
    "# send the request\n",
    "rarest_request = requests.post('http://geco.deib.polimi.it/popstudy/api/rarest_variants', json=rv_param)\n",
    "print(' response status code: {}'.format(rarest_request.status_code))\n",
    "rarest_response_body = rarest_request.json()"
   ]
  },
  {
   "cell_type": "markdown",
   "metadata": {},
   "source": [
    "# Inspect response data:\n",
    "The response includes the 30 rarest mutations (from each data source) found in the individuals of the selected population with frequency greater or equal to 0.99% ordered by ascending frequency and occurrence of the variant."
   ]
  },
  {
   "cell_type": "code",
   "execution_count": 5,
   "metadata": {},
   "outputs": [
    {
     "output_type": "execute_result",
     "data": {
      "text/plain": "    CHROM  START REF ALT  POPULATION_SIZE  POSITIVE_DONORS  \\\n0       1  86191   G   A                7                1   \n1       1  88709   C   G                7                1   \n2       1  86027   T   C                7                1   \n3       1  86064   G   C                7                1   \n4       1  82608   C   G                7                1   \n5       1  87408   C   T                7                1   \n6       1  13115   T   G                7                1   \n7       1  64512   G                    7                1   \n8       1  74791   G   A                7                1   \n9       1  72525   A   G                7                1   \n10      1  64930   G   A                7                1   \n11      1  76853   A   G                7                1   \n12      1  82162   G   A                7                1   \n13      1  79187   G   T                7                1   \n14      1  16948   A   C                7                1   \n15      1  14598   T   A                7                1   \n16      1  14603   A   G                7                1   \n17      1  47158   T   C                7                1   \n18      1  13117   A   G                7                1   \n19      1  58813   G   A                7                1   \n20      1  68339   G   C                7                1   \n21      1  55404   C   T                7                1   \n22      1  64517   G   T                7                1   \n23      1  54590   A   G                7                1   \n24      1  54711   T   C                7                1   \n25      1  60350   A   G                7                1   \n26      1  74789   C   G                7                1   \n27      1  57291   C   T                7                1   \n28      1  55325   T   C                7                1   \n29      1  89598   A   T                7                1   \n\n    OCCURRENCE_OF_VARIANT  FREQUENCY_OF_VARIANT  POSITIVE_RATIO  \n0                       1              0.071429        0.142857  \n1                       1              0.071429        0.142857  \n2                       1              0.071429        0.142857  \n3                       1              0.071429        0.142857  \n4                       1              0.071429        0.142857  \n5                       1              0.071429        0.142857  \n6                       1              0.071429        0.142857  \n7                       1              0.071429        0.142857  \n8                       1              0.071429        0.142857  \n9                       1              0.071429        0.142857  \n10                      1              0.071429        0.142857  \n11                      1              0.071429        0.142857  \n12                      1              0.071429        0.142857  \n13                      1              0.071429        0.142857  \n14                      1              0.071429        0.142857  \n15                      1              0.071429        0.142857  \n16                      1              0.071429        0.142857  \n17                      1              0.071429        0.142857  \n18                      1              0.071429        0.142857  \n19                      1              0.071429        0.142857  \n20                      1              0.071429        0.142857  \n21                      1              0.071429        0.142857  \n22                      1              0.071429        0.142857  \n23                      1              0.071429        0.142857  \n24                      1              0.071429        0.142857  \n25                      1              0.071429        0.142857  \n26                      1              0.071429        0.142857  \n27                      1              0.071429        0.142857  \n28                      1              0.071429        0.142857  \n29                      1              0.071429        0.142857  ",
      "text/html": "<div>\n<style scoped>\n    .dataframe tbody tr th:only-of-type {\n        vertical-align: middle;\n    }\n\n    .dataframe tbody tr th {\n        vertical-align: top;\n    }\n\n    .dataframe thead th {\n        text-align: right;\n    }\n</style>\n<table border=\"1\" class=\"dataframe\">\n  <thead>\n    <tr style=\"text-align: right;\">\n      <th></th>\n      <th>CHROM</th>\n      <th>START</th>\n      <th>REF</th>\n      <th>ALT</th>\n      <th>POPULATION_SIZE</th>\n      <th>POSITIVE_DONORS</th>\n      <th>OCCURRENCE_OF_VARIANT</th>\n      <th>FREQUENCY_OF_VARIANT</th>\n      <th>POSITIVE_RATIO</th>\n    </tr>\n  </thead>\n  <tbody>\n    <tr>\n      <th>0</th>\n      <td>1</td>\n      <td>86191</td>\n      <td>G</td>\n      <td>A</td>\n      <td>7</td>\n      <td>1</td>\n      <td>1</td>\n      <td>0.071429</td>\n      <td>0.142857</td>\n    </tr>\n    <tr>\n      <th>1</th>\n      <td>1</td>\n      <td>88709</td>\n      <td>C</td>\n      <td>G</td>\n      <td>7</td>\n      <td>1</td>\n      <td>1</td>\n      <td>0.071429</td>\n      <td>0.142857</td>\n    </tr>\n    <tr>\n      <th>2</th>\n      <td>1</td>\n      <td>86027</td>\n      <td>T</td>\n      <td>C</td>\n      <td>7</td>\n      <td>1</td>\n      <td>1</td>\n      <td>0.071429</td>\n      <td>0.142857</td>\n    </tr>\n    <tr>\n      <th>3</th>\n      <td>1</td>\n      <td>86064</td>\n      <td>G</td>\n      <td>C</td>\n      <td>7</td>\n      <td>1</td>\n      <td>1</td>\n      <td>0.071429</td>\n      <td>0.142857</td>\n    </tr>\n    <tr>\n      <th>4</th>\n      <td>1</td>\n      <td>82608</td>\n      <td>C</td>\n      <td>G</td>\n      <td>7</td>\n      <td>1</td>\n      <td>1</td>\n      <td>0.071429</td>\n      <td>0.142857</td>\n    </tr>\n    <tr>\n      <th>5</th>\n      <td>1</td>\n      <td>87408</td>\n      <td>C</td>\n      <td>T</td>\n      <td>7</td>\n      <td>1</td>\n      <td>1</td>\n      <td>0.071429</td>\n      <td>0.142857</td>\n    </tr>\n    <tr>\n      <th>6</th>\n      <td>1</td>\n      <td>13115</td>\n      <td>T</td>\n      <td>G</td>\n      <td>7</td>\n      <td>1</td>\n      <td>1</td>\n      <td>0.071429</td>\n      <td>0.142857</td>\n    </tr>\n    <tr>\n      <th>7</th>\n      <td>1</td>\n      <td>64512</td>\n      <td>G</td>\n      <td></td>\n      <td>7</td>\n      <td>1</td>\n      <td>1</td>\n      <td>0.071429</td>\n      <td>0.142857</td>\n    </tr>\n    <tr>\n      <th>8</th>\n      <td>1</td>\n      <td>74791</td>\n      <td>G</td>\n      <td>A</td>\n      <td>7</td>\n      <td>1</td>\n      <td>1</td>\n      <td>0.071429</td>\n      <td>0.142857</td>\n    </tr>\n    <tr>\n      <th>9</th>\n      <td>1</td>\n      <td>72525</td>\n      <td>A</td>\n      <td>G</td>\n      <td>7</td>\n      <td>1</td>\n      <td>1</td>\n      <td>0.071429</td>\n      <td>0.142857</td>\n    </tr>\n    <tr>\n      <th>10</th>\n      <td>1</td>\n      <td>64930</td>\n      <td>G</td>\n      <td>A</td>\n      <td>7</td>\n      <td>1</td>\n      <td>1</td>\n      <td>0.071429</td>\n      <td>0.142857</td>\n    </tr>\n    <tr>\n      <th>11</th>\n      <td>1</td>\n      <td>76853</td>\n      <td>A</td>\n      <td>G</td>\n      <td>7</td>\n      <td>1</td>\n      <td>1</td>\n      <td>0.071429</td>\n      <td>0.142857</td>\n    </tr>\n    <tr>\n      <th>12</th>\n      <td>1</td>\n      <td>82162</td>\n      <td>G</td>\n      <td>A</td>\n      <td>7</td>\n      <td>1</td>\n      <td>1</td>\n      <td>0.071429</td>\n      <td>0.142857</td>\n    </tr>\n    <tr>\n      <th>13</th>\n      <td>1</td>\n      <td>79187</td>\n      <td>G</td>\n      <td>T</td>\n      <td>7</td>\n      <td>1</td>\n      <td>1</td>\n      <td>0.071429</td>\n      <td>0.142857</td>\n    </tr>\n    <tr>\n      <th>14</th>\n      <td>1</td>\n      <td>16948</td>\n      <td>A</td>\n      <td>C</td>\n      <td>7</td>\n      <td>1</td>\n      <td>1</td>\n      <td>0.071429</td>\n      <td>0.142857</td>\n    </tr>\n    <tr>\n      <th>15</th>\n      <td>1</td>\n      <td>14598</td>\n      <td>T</td>\n      <td>A</td>\n      <td>7</td>\n      <td>1</td>\n      <td>1</td>\n      <td>0.071429</td>\n      <td>0.142857</td>\n    </tr>\n    <tr>\n      <th>16</th>\n      <td>1</td>\n      <td>14603</td>\n      <td>A</td>\n      <td>G</td>\n      <td>7</td>\n      <td>1</td>\n      <td>1</td>\n      <td>0.071429</td>\n      <td>0.142857</td>\n    </tr>\n    <tr>\n      <th>17</th>\n      <td>1</td>\n      <td>47158</td>\n      <td>T</td>\n      <td>C</td>\n      <td>7</td>\n      <td>1</td>\n      <td>1</td>\n      <td>0.071429</td>\n      <td>0.142857</td>\n    </tr>\n    <tr>\n      <th>18</th>\n      <td>1</td>\n      <td>13117</td>\n      <td>A</td>\n      <td>G</td>\n      <td>7</td>\n      <td>1</td>\n      <td>1</td>\n      <td>0.071429</td>\n      <td>0.142857</td>\n    </tr>\n    <tr>\n      <th>19</th>\n      <td>1</td>\n      <td>58813</td>\n      <td>G</td>\n      <td>A</td>\n      <td>7</td>\n      <td>1</td>\n      <td>1</td>\n      <td>0.071429</td>\n      <td>0.142857</td>\n    </tr>\n    <tr>\n      <th>20</th>\n      <td>1</td>\n      <td>68339</td>\n      <td>G</td>\n      <td>C</td>\n      <td>7</td>\n      <td>1</td>\n      <td>1</td>\n      <td>0.071429</td>\n      <td>0.142857</td>\n    </tr>\n    <tr>\n      <th>21</th>\n      <td>1</td>\n      <td>55404</td>\n      <td>C</td>\n      <td>T</td>\n      <td>7</td>\n      <td>1</td>\n      <td>1</td>\n      <td>0.071429</td>\n      <td>0.142857</td>\n    </tr>\n    <tr>\n      <th>22</th>\n      <td>1</td>\n      <td>64517</td>\n      <td>G</td>\n      <td>T</td>\n      <td>7</td>\n      <td>1</td>\n      <td>1</td>\n      <td>0.071429</td>\n      <td>0.142857</td>\n    </tr>\n    <tr>\n      <th>23</th>\n      <td>1</td>\n      <td>54590</td>\n      <td>A</td>\n      <td>G</td>\n      <td>7</td>\n      <td>1</td>\n      <td>1</td>\n      <td>0.071429</td>\n      <td>0.142857</td>\n    </tr>\n    <tr>\n      <th>24</th>\n      <td>1</td>\n      <td>54711</td>\n      <td>T</td>\n      <td>C</td>\n      <td>7</td>\n      <td>1</td>\n      <td>1</td>\n      <td>0.071429</td>\n      <td>0.142857</td>\n    </tr>\n    <tr>\n      <th>25</th>\n      <td>1</td>\n      <td>60350</td>\n      <td>A</td>\n      <td>G</td>\n      <td>7</td>\n      <td>1</td>\n      <td>1</td>\n      <td>0.071429</td>\n      <td>0.142857</td>\n    </tr>\n    <tr>\n      <th>26</th>\n      <td>1</td>\n      <td>74789</td>\n      <td>C</td>\n      <td>G</td>\n      <td>7</td>\n      <td>1</td>\n      <td>1</td>\n      <td>0.071429</td>\n      <td>0.142857</td>\n    </tr>\n    <tr>\n      <th>27</th>\n      <td>1</td>\n      <td>57291</td>\n      <td>C</td>\n      <td>T</td>\n      <td>7</td>\n      <td>1</td>\n      <td>1</td>\n      <td>0.071429</td>\n      <td>0.142857</td>\n    </tr>\n    <tr>\n      <th>28</th>\n      <td>1</td>\n      <td>55325</td>\n      <td>T</td>\n      <td>C</td>\n      <td>7</td>\n      <td>1</td>\n      <td>1</td>\n      <td>0.071429</td>\n      <td>0.142857</td>\n    </tr>\n    <tr>\n      <th>29</th>\n      <td>1</td>\n      <td>89598</td>\n      <td>A</td>\n      <td>T</td>\n      <td>7</td>\n      <td>1</td>\n      <td>1</td>\n      <td>0.071429</td>\n      <td>0.142857</td>\n    </tr>\n  </tbody>\n</table>\n</div>"
     },
     "metadata": {},
     "execution_count": 5
    }
   ],
   "source": [
    "columns = rarest_response_body['columns']\n",
    "rows = rarest_response_body['rows']\n",
    "df = pd.DataFrame.from_records(rows, columns=columns)\n",
    "df.fillna(value='', inplace=True)    # replaces Nones (== any value) with ''\n",
    "df['POSITIVE_RATIO'] = df.apply(lambda r: r['POSITIVE_DONORS']/r['POPULATION_SIZE'], axis=1)  # positive donors / population size\n",
    "df"
   ]
  },
  {
   "cell_type": "markdown",
   "metadata": {},
   "source": [
    "Note that FREQUENCY_OF_VARIANT in the above result is half the POSITIVE_RATIO. This means that the the variant described is heterozygous in the selected population."
   ]
  }
 ],
 "metadata": {
  "kernelspec": {
   "display_name": "Python 3",
   "language": "python",
   "name": "python3"
  },
  "language_info": {
   "codemirror_mode": {
    "name": "ipython",
    "version": 3
   },
   "file_extension": ".py",
   "mimetype": "text/x-python",
   "name": "python",
   "nbconvert_exporter": "python",
   "pygments_lexer": "ipython3",
   "version": "3.7.6-final"
  }
 },
 "nbformat": 4,
 "nbformat_minor": 2
}