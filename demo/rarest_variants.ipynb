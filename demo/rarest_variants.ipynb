{
 "cells": [
  {
   "cell_type": "markdown",
   "metadata": {},
   "source": [
    "# Demo of endpoint rarest_variants\n",
    "\n",
    "Documentation: http://geco.deib.polimi.it/popstudy/api/ui/#/default/server.api.rarest_variants\n",
    "\n",
    "Requirements to run this demo: https://github.com/tomalf2/data_summarization_1KGP/blob/master/demo/README_requirements.txt"
   ]
  },
  {
   "cell_type": "markdown",
   "metadata": {},
   "source": [
    "In this demo, we're going to ask for the rarest variants found in a populatio composed of female healthy individuals from East Asian countries and having the two variants - described as a tuple (chromosome)-(start)-(reference allele)-(alternative allele) :\n",
    "\n",
    " 1-13271-G-C \n",
    "\n",
    " 1-10176--C \n",
    " \n",
    " aligned on assembly hg19. \n",
    "\n",
    "Few considerations: the population considered in this example contains 22 individuals (you can check it by querying the endpoint \\donor_distribution with the same body request). Knowing that each individual carries about 4.5 millions variants, we can estimate that our population includes ⁓99 millions variants. As you can imagine, finding the rarest variants in this set, requires some time; in this case it will take ~3m:10s to answer the request (execution time can be estimated roughly as 10 sec + 8 sec * < size of population >).  If you wish to reduce further the population size, you can introduce constraints on the country of origin (for example you can select only the BEB - Bangladesh - population) and on the DNA source type (for example only blood), or increase the region constraints."
   ]
  },
  {
   "cell_type": "code",
   "execution_count": 8,
   "metadata": {},
   "outputs": [
    {
     "output_type": "stream",
     "name": "stdout",
     "text": "{\"meta\": {\"health_status\": \"true\", \"super_population\": [\"EAS\"], \"gender\": \"female\", \"assembly\": \"hg19\"}, \"variants\": {\"with\": [{\"chrom\": 1, \"start\": 10176, \"ref\": \"\", \"alt\": \"C\"}, {\"chrom\": 1, \"start\": 13271, \"ref\": \"G\", \"alt\": \"C\"}]}, \"filter_output\": {\"limit\": 30, \"min_frequency\": 0.0099}}\n"
    }
   ],
   "source": [
    "import json\n",
    "param = {\n",
    "    'having_meta': {\n",
    "        'health_status': \"true\",\n",
    "        'super_population': ['EAS'],\n",
    "        'gender': 'female',\n",
    "        'assembly': 'hg19'\n",
    "        },\n",
    "    'having_variants': {\n",
    "        'with': [\n",
    "            {'chrom': 1, 'start': 10176, 'ref': '', 'alt': 'C'},\n",
    "            {'chrom': 1, 'start': 13271, 'ref': 'G', 'alt': 'C'},\n",
    "            ]\n",
    "    },\n",
    "    'filter_output': {\n",
    "        'limit': 30,\n",
    "        'min_frequency': 0.0099\n",
    "        }\n",
    "}\n",
    "body = json.dumps(param)\n",
    "print(body)"
   ]
  },
  {
   "cell_type": "markdown",
   "metadata": {},
   "source": [
    "POST the endpoint \\rarest_mutations with the prepared JSON parameter. Since this operation is very demanding, it can take some time. For a population of 7 individuals it takes about 65 seconds. In general, the execution time is 10s + 8.16s * (number of individuals) up to 149 individuals, and ~45/55 minutes for larger populations."
   ]
  },
  {
   "cell_type": "code",
   "execution_count": 6,
   "metadata": {},
   "outputs": [
    {
     "output_type": "stream",
     "name": "stdout",
     "text": "response status code: 200\n"
    }
   ],
   "source": [
    "import requests\n",
    "\n",
    "r = requests.post('http://geco.deib.polimi.it/popstudy/api/rarest_variants', json=param)\n",
    "print(' response status code: {}'.format(r.status_code))\n",
    "response_body = r.json()"
   ]
  },
  {
   "cell_type": "markdown",
   "metadata": {},
   "source": [
    "# Inspect response data:\n",
    "The response includes the 10 rarest mutations (from each data source) found in the individuals of the selected population."
   ]
  },
  {
   "cell_type": "code",
   "execution_count": 7,
   "metadata": {},
   "outputs": [
    {
     "output_type": "execute_result",
     "data": {
      "text/plain": "    CHROM  START REF  ALT  POPULATION_SIZE  POSITIVE_DONORS  \\\n0       1  76836   T    G               22                1   \n1       1  77872   G    A               22                1   \n2       1  72524   A    G               22                1   \n3       1  74790   G    A               22                1   \n4       1  72296      TAT               22                1   \n5       1  77864   C    T               22                1   \n6       1  64929   G    A               22                1   \n7       1  68594   T    G               22                1   \n8       1  74788   C    G               22                1   \n9       1  60349   A    G               22                1   \n10      1  69426   T    G               22                1   \n11      1  58812   G    A               22                1   \n12      1  13108   G    A               22                1   \n13      1  59038   T    C               22                1   \n14      1  15642   G    A               22                1   \n15      1  10640   G    A               22                1   \n16      1  15775   A    G               22                1   \n17      1  64516   G    T               22                1   \n18      1  64511   G                    22                1   \n19      1  67177   C    G               22                1   \n20      1  51763   C    G               22                1   \n21      1  51760   A    G               22                1   \n22      1  48202   G    A               22                1   \n23      1  63669   G    A               22                1   \n24      1  49552   A    G               22                1   \n25      1  51045   A    T               22                1   \n26      1  51047   A    C               22                1   \n27      1  51048   A    T               22                1   \n28      1  51051   G    T               22                1   \n29      1  82063   T    C               22                1   \n\n    OCCURRENCE_OF_VARIANT  FREQUENCY_OF_VARIANT  \n0                       1              0.022727  \n1                       1              0.022727  \n2                       1              0.022727  \n3                       1              0.022727  \n4                       1              0.022727  \n5                       1              0.022727  \n6                       1              0.022727  \n7                       1              0.022727  \n8                       1              0.022727  \n9                       1              0.022727  \n10                      1              0.022727  \n11                      1              0.022727  \n12                      1              0.022727  \n13                      1              0.022727  \n14                      1              0.022727  \n15                      1              0.022727  \n16                      1              0.022727  \n17                      1              0.022727  \n18                      1              0.022727  \n19                      1              0.022727  \n20                      1              0.022727  \n21                      1              0.022727  \n22                      1              0.022727  \n23                      1              0.022727  \n24                      1              0.022727  \n25                      1              0.022727  \n26                      1              0.022727  \n27                      1              0.022727  \n28                      1              0.022727  \n29                      1              0.022727  ",
      "text/html": "<div>\n<style scoped>\n    .dataframe tbody tr th:only-of-type {\n        vertical-align: middle;\n    }\n\n    .dataframe tbody tr th {\n        vertical-align: top;\n    }\n\n    .dataframe thead th {\n        text-align: right;\n    }\n</style>\n<table border=\"1\" class=\"dataframe\">\n  <thead>\n    <tr style=\"text-align: right;\">\n      <th></th>\n      <th>CHROM</th>\n      <th>START</th>\n      <th>REF</th>\n      <th>ALT</th>\n      <th>POPULATION_SIZE</th>\n      <th>POSITIVE_DONORS</th>\n      <th>OCCURRENCE_OF_VARIANT</th>\n      <th>FREQUENCY_OF_VARIANT</th>\n    </tr>\n  </thead>\n  <tbody>\n    <tr>\n      <th>0</th>\n      <td>1</td>\n      <td>76836</td>\n      <td>T</td>\n      <td>G</td>\n      <td>22</td>\n      <td>1</td>\n      <td>1</td>\n      <td>0.022727</td>\n    </tr>\n    <tr>\n      <th>1</th>\n      <td>1</td>\n      <td>77872</td>\n      <td>G</td>\n      <td>A</td>\n      <td>22</td>\n      <td>1</td>\n      <td>1</td>\n      <td>0.022727</td>\n    </tr>\n    <tr>\n      <th>2</th>\n      <td>1</td>\n      <td>72524</td>\n      <td>A</td>\n      <td>G</td>\n      <td>22</td>\n      <td>1</td>\n      <td>1</td>\n      <td>0.022727</td>\n    </tr>\n    <tr>\n      <th>3</th>\n      <td>1</td>\n      <td>74790</td>\n      <td>G</td>\n      <td>A</td>\n      <td>22</td>\n      <td>1</td>\n      <td>1</td>\n      <td>0.022727</td>\n    </tr>\n    <tr>\n      <th>4</th>\n      <td>1</td>\n      <td>72296</td>\n      <td></td>\n      <td>TAT</td>\n      <td>22</td>\n      <td>1</td>\n      <td>1</td>\n      <td>0.022727</td>\n    </tr>\n    <tr>\n      <th>5</th>\n      <td>1</td>\n      <td>77864</td>\n      <td>C</td>\n      <td>T</td>\n      <td>22</td>\n      <td>1</td>\n      <td>1</td>\n      <td>0.022727</td>\n    </tr>\n    <tr>\n      <th>6</th>\n      <td>1</td>\n      <td>64929</td>\n      <td>G</td>\n      <td>A</td>\n      <td>22</td>\n      <td>1</td>\n      <td>1</td>\n      <td>0.022727</td>\n    </tr>\n    <tr>\n      <th>7</th>\n      <td>1</td>\n      <td>68594</td>\n      <td>T</td>\n      <td>G</td>\n      <td>22</td>\n      <td>1</td>\n      <td>1</td>\n      <td>0.022727</td>\n    </tr>\n    <tr>\n      <th>8</th>\n      <td>1</td>\n      <td>74788</td>\n      <td>C</td>\n      <td>G</td>\n      <td>22</td>\n      <td>1</td>\n      <td>1</td>\n      <td>0.022727</td>\n    </tr>\n    <tr>\n      <th>9</th>\n      <td>1</td>\n      <td>60349</td>\n      <td>A</td>\n      <td>G</td>\n      <td>22</td>\n      <td>1</td>\n      <td>1</td>\n      <td>0.022727</td>\n    </tr>\n    <tr>\n      <th>10</th>\n      <td>1</td>\n      <td>69426</td>\n      <td>T</td>\n      <td>G</td>\n      <td>22</td>\n      <td>1</td>\n      <td>1</td>\n      <td>0.022727</td>\n    </tr>\n    <tr>\n      <th>11</th>\n      <td>1</td>\n      <td>58812</td>\n      <td>G</td>\n      <td>A</td>\n      <td>22</td>\n      <td>1</td>\n      <td>1</td>\n      <td>0.022727</td>\n    </tr>\n    <tr>\n      <th>12</th>\n      <td>1</td>\n      <td>13108</td>\n      <td>G</td>\n      <td>A</td>\n      <td>22</td>\n      <td>1</td>\n      <td>1</td>\n      <td>0.022727</td>\n    </tr>\n    <tr>\n      <th>13</th>\n      <td>1</td>\n      <td>59038</td>\n      <td>T</td>\n      <td>C</td>\n      <td>22</td>\n      <td>1</td>\n      <td>1</td>\n      <td>0.022727</td>\n    </tr>\n    <tr>\n      <th>14</th>\n      <td>1</td>\n      <td>15642</td>\n      <td>G</td>\n      <td>A</td>\n      <td>22</td>\n      <td>1</td>\n      <td>1</td>\n      <td>0.022727</td>\n    </tr>\n    <tr>\n      <th>15</th>\n      <td>1</td>\n      <td>10640</td>\n      <td>G</td>\n      <td>A</td>\n      <td>22</td>\n      <td>1</td>\n      <td>1</td>\n      <td>0.022727</td>\n    </tr>\n    <tr>\n      <th>16</th>\n      <td>1</td>\n      <td>15775</td>\n      <td>A</td>\n      <td>G</td>\n      <td>22</td>\n      <td>1</td>\n      <td>1</td>\n      <td>0.022727</td>\n    </tr>\n    <tr>\n      <th>17</th>\n      <td>1</td>\n      <td>64516</td>\n      <td>G</td>\n      <td>T</td>\n      <td>22</td>\n      <td>1</td>\n      <td>1</td>\n      <td>0.022727</td>\n    </tr>\n    <tr>\n      <th>18</th>\n      <td>1</td>\n      <td>64511</td>\n      <td>G</td>\n      <td></td>\n      <td>22</td>\n      <td>1</td>\n      <td>1</td>\n      <td>0.022727</td>\n    </tr>\n    <tr>\n      <th>19</th>\n      <td>1</td>\n      <td>67177</td>\n      <td>C</td>\n      <td>G</td>\n      <td>22</td>\n      <td>1</td>\n      <td>1</td>\n      <td>0.022727</td>\n    </tr>\n    <tr>\n      <th>20</th>\n      <td>1</td>\n      <td>51763</td>\n      <td>C</td>\n      <td>G</td>\n      <td>22</td>\n      <td>1</td>\n      <td>1</td>\n      <td>0.022727</td>\n    </tr>\n    <tr>\n      <th>21</th>\n      <td>1</td>\n      <td>51760</td>\n      <td>A</td>\n      <td>G</td>\n      <td>22</td>\n      <td>1</td>\n      <td>1</td>\n      <td>0.022727</td>\n    </tr>\n    <tr>\n      <th>22</th>\n      <td>1</td>\n      <td>48202</td>\n      <td>G</td>\n      <td>A</td>\n      <td>22</td>\n      <td>1</td>\n      <td>1</td>\n      <td>0.022727</td>\n    </tr>\n    <tr>\n      <th>23</th>\n      <td>1</td>\n      <td>63669</td>\n      <td>G</td>\n      <td>A</td>\n      <td>22</td>\n      <td>1</td>\n      <td>1</td>\n      <td>0.022727</td>\n    </tr>\n    <tr>\n      <th>24</th>\n      <td>1</td>\n      <td>49552</td>\n      <td>A</td>\n      <td>G</td>\n      <td>22</td>\n      <td>1</td>\n      <td>1</td>\n      <td>0.022727</td>\n    </tr>\n    <tr>\n      <th>25</th>\n      <td>1</td>\n      <td>51045</td>\n      <td>A</td>\n      <td>T</td>\n      <td>22</td>\n      <td>1</td>\n      <td>1</td>\n      <td>0.022727</td>\n    </tr>\n    <tr>\n      <th>26</th>\n      <td>1</td>\n      <td>51047</td>\n      <td>A</td>\n      <td>C</td>\n      <td>22</td>\n      <td>1</td>\n      <td>1</td>\n      <td>0.022727</td>\n    </tr>\n    <tr>\n      <th>27</th>\n      <td>1</td>\n      <td>51048</td>\n      <td>A</td>\n      <td>T</td>\n      <td>22</td>\n      <td>1</td>\n      <td>1</td>\n      <td>0.022727</td>\n    </tr>\n    <tr>\n      <th>28</th>\n      <td>1</td>\n      <td>51051</td>\n      <td>G</td>\n      <td>T</td>\n      <td>22</td>\n      <td>1</td>\n      <td>1</td>\n      <td>0.022727</td>\n    </tr>\n    <tr>\n      <th>29</th>\n      <td>1</td>\n      <td>82063</td>\n      <td>T</td>\n      <td>C</td>\n      <td>22</td>\n      <td>1</td>\n      <td>1</td>\n      <td>0.022727</td>\n    </tr>\n  </tbody>\n</table>\n</div>"
     },
     "metadata": {},
     "execution_count": 7
    }
   ],
   "source": [
    "import pandas as pd\n",
    "from matplotlib import pyplot as plt\n",
    "columns = response_body['columns']\n",
    "rows = response_body['rows']\n",
    "df = pd.DataFrame.from_records(rows, columns=columns)\n",
    "df.fillna(value='', inplace=True)   # replace Nones with empty values\n",
    "\n",
    "df"
   ]
  },
  {
   "cell_type": "code",
   "execution_count": null,
   "metadata": {},
   "outputs": [],
   "source": []
  }
 ],
 "metadata": {
  "kernelspec": {
   "display_name": "Python 3",
   "language": "python",
   "name": "python3"
  },
  "language_info": {
   "codemirror_mode": {
    "name": "ipython",
    "version": 3
   },
   "file_extension": ".py",
   "mimetype": "text/x-python",
   "name": "python",
   "nbconvert_exporter": "python",
   "pygments_lexer": "ipython3",
   "version": "3.7.6-final"
  }
 },
 "nbformat": 4,
 "nbformat_minor": 2
}