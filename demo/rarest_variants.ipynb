{
 "cells": [
  {
   "cell_type": "markdown",
   "metadata": {},
   "source": [
    "# Run the server script from package data_summarization_1KGP"
   ]
  },
  {
   "cell_type": "markdown",
   "metadata": {},
   "source": [
    "Run the module \"main.py\" from the base project directory with program arguments: \"server <db_user> <db_password>\" after replacing <db_user> and <db_password> with appropriate values."
   ]
  },
  {
   "cell_type": "markdown",
   "metadata": {},
   "source": [
    "Prepare the request parameter for selecting only the female individuals from Bangladesh having the variants:\n",
    "(chromosome)-(start)-(reference allele)-(alternative allele)\n",
    "\n",
    " 1-13271-G-C \n",
    "\n",
    " 1-10176--C \n",
    " \n",
    " aligned on assembly hg19. \n",
    "\n",
    "The so defined population contains 7 individuals (you can check it by querying the endpoint \\donor_distribution with the same body request). Knowing each individual carries about 4.5 millions variants, we can estimate that our population includes ⁓31.5 millions variants."
   ]
  },
  {
   "cell_type": "code",
   "execution_count": 34,
   "metadata": {},
   "outputs": [
    {
     "output_type": "stream",
     "name": "stdout",
     "text": "{\"meta\": {\"health_status\": \"true\", \"population\": [\"BEB\"], \"gender\": \"female\", \"assembly\": \"hg19\"}, \"variants\": {\"with\": [{\"chrom\": 1, \"start\": 10176, \"ref\": \"\", \"alt\": \"C\"}, {\"chrom\": 1, \"start\": 13271, \"ref\": \"G\", \"alt\": \"C\"}]}, \"filter_output\": {\"limit\": 30, \"min_frequency\": 0.0099}}\n"
    }
   ],
   "source": [
    "import json\n",
    "param = {\n",
    "    'meta': {\n",
    "        'health_status': \"true\",\n",
    "        'population': ['BEB'],\n",
    "        'gender': 'female',\n",
    "        'assembly': 'hg19'\n",
    "        },\n",
    "    'variants': {\n",
    "        'with': [\n",
    "            {'chrom': 1, 'start': 10176, 'ref': '', 'alt': 'C'},\n",
    "            {'chrom': 1, 'start': 13271, 'ref': 'G', 'alt': 'C'},\n",
    "            ]\n",
    "    },\n",
    "    'filter_output': {\n",
    "        'limit': 30,\n",
    "        'min_frequency': 0.0099\n",
    "        }\n",
    "}\n",
    "body = json.dumps(param)\n",
    "print(body)"
   ]
  },
  {
   "cell_type": "markdown",
   "metadata": {},
   "source": [
    "POST the endpoint \\rarest_mutations with the prepared JSON parameter. Since this operation is very demanding, it can take some time. For a population of 7 individuals it takes about 65 seconds. In general, the execution time is 10s + 8.16s * (number of individuals) up to 149 individuals, and ~45/55 minutes for larger populations."
   ]
  },
  {
   "cell_type": "code",
   "execution_count": 35,
   "metadata": {},
   "outputs": [
    {
     "output_type": "stream",
     "name": "stdout",
     "text": "response status code: 200\n"
    }
   ],
   "source": [
    "import requests\n",
    "\n",
    "r = requests.post('http://localhost:51992/rarest_variants', json=param)\n",
    "print(' response status code: {}'.format(r.status_code))\n",
    "response_body = r.json()"
   ]
  },
  {
   "cell_type": "markdown",
   "metadata": {},
   "source": [
    "# Inspect response data:\n",
    "The response includes the 10 rarest mutations (from each data source) found in the individuals of the selected population."
   ]
  },
  {
   "cell_type": "code",
   "execution_count": 36,
   "metadata": {},
   "outputs": [
    {
     "output_type": "execute_result",
     "data": {
      "text/plain": "    CHROM  START REF ALT  POPULATION_SIZE  POSITIVE_DONORS  OCCURRENCE  \\\n0       1  86190   G   A                7                1           1   \n1       1  88708   C   G                7                1           1   \n2       1  86026   T   C                7                1           1   \n3       1  86063   G   C                7                1           1   \n4       1  82607   C   G                7                1           1   \n5       1  87407   C   T                7                1           1   \n6       1  13114   T   G                7                1           1   \n7       1  64511   G                    7                1           1   \n8       1  74790   G   A                7                1           1   \n9       1  72524   A   G                7                1           1   \n10      1  64929   G   A                7                1           1   \n11      1  76852   A   G                7                1           1   \n12      1  82161   G   A                7                1           1   \n13      1  79186   G   T                7                1           1   \n14      1  16947   A   C                7                1           1   \n15      1  14597   T   A                7                1           1   \n16      1  14602   A   G                7                1           1   \n17      1  47157   T   C                7                1           1   \n18      1  13116   A   G                7                1           1   \n19      1  58812   G   A                7                1           1   \n20      1  68338   G   C                7                1           1   \n21      1  55403   C   T                7                1           1   \n22      1  64516   G   T                7                1           1   \n23      1  54589   A   G                7                1           1   \n24      1  54710   T   C                7                1           1   \n25      1  60349   A   G                7                1           1   \n26      1  74788   C   G                7                1           1   \n27      1  57290   C   T                7                1           1   \n28      1  55324   T   C                7                1           1   \n29      1  89597   A   T                7                1           1   \n\n    FREQUENCY  \n0    0.071429  \n1    0.071429  \n2    0.071429  \n3    0.071429  \n4    0.071429  \n5    0.071429  \n6    0.071429  \n7    0.071429  \n8    0.071429  \n9    0.071429  \n10   0.071429  \n11   0.071429  \n12   0.071429  \n13   0.071429  \n14   0.071429  \n15   0.071429  \n16   0.071429  \n17   0.071429  \n18   0.071429  \n19   0.071429  \n20   0.071429  \n21   0.071429  \n22   0.071429  \n23   0.071429  \n24   0.071429  \n25   0.071429  \n26   0.071429  \n27   0.071429  \n28   0.071429  \n29   0.071429  ",
      "text/html": "<div>\n<style scoped>\n    .dataframe tbody tr th:only-of-type {\n        vertical-align: middle;\n    }\n\n    .dataframe tbody tr th {\n        vertical-align: top;\n    }\n\n    .dataframe thead th {\n        text-align: right;\n    }\n</style>\n<table border=\"1\" class=\"dataframe\">\n  <thead>\n    <tr style=\"text-align: right;\">\n      <th></th>\n      <th>CHROM</th>\n      <th>START</th>\n      <th>REF</th>\n      <th>ALT</th>\n      <th>POPULATION_SIZE</th>\n      <th>POSITIVE_DONORS</th>\n      <th>OCCURRENCE</th>\n      <th>FREQUENCY</th>\n    </tr>\n  </thead>\n  <tbody>\n    <tr>\n      <th>0</th>\n      <td>1</td>\n      <td>86190</td>\n      <td>G</td>\n      <td>A</td>\n      <td>7</td>\n      <td>1</td>\n      <td>1</td>\n      <td>0.071429</td>\n    </tr>\n    <tr>\n      <th>1</th>\n      <td>1</td>\n      <td>88708</td>\n      <td>C</td>\n      <td>G</td>\n      <td>7</td>\n      <td>1</td>\n      <td>1</td>\n      <td>0.071429</td>\n    </tr>\n    <tr>\n      <th>2</th>\n      <td>1</td>\n      <td>86026</td>\n      <td>T</td>\n      <td>C</td>\n      <td>7</td>\n      <td>1</td>\n      <td>1</td>\n      <td>0.071429</td>\n    </tr>\n    <tr>\n      <th>3</th>\n      <td>1</td>\n      <td>86063</td>\n      <td>G</td>\n      <td>C</td>\n      <td>7</td>\n      <td>1</td>\n      <td>1</td>\n      <td>0.071429</td>\n    </tr>\n    <tr>\n      <th>4</th>\n      <td>1</td>\n      <td>82607</td>\n      <td>C</td>\n      <td>G</td>\n      <td>7</td>\n      <td>1</td>\n      <td>1</td>\n      <td>0.071429</td>\n    </tr>\n    <tr>\n      <th>5</th>\n      <td>1</td>\n      <td>87407</td>\n      <td>C</td>\n      <td>T</td>\n      <td>7</td>\n      <td>1</td>\n      <td>1</td>\n      <td>0.071429</td>\n    </tr>\n    <tr>\n      <th>6</th>\n      <td>1</td>\n      <td>13114</td>\n      <td>T</td>\n      <td>G</td>\n      <td>7</td>\n      <td>1</td>\n      <td>1</td>\n      <td>0.071429</td>\n    </tr>\n    <tr>\n      <th>7</th>\n      <td>1</td>\n      <td>64511</td>\n      <td>G</td>\n      <td></td>\n      <td>7</td>\n      <td>1</td>\n      <td>1</td>\n      <td>0.071429</td>\n    </tr>\n    <tr>\n      <th>8</th>\n      <td>1</td>\n      <td>74790</td>\n      <td>G</td>\n      <td>A</td>\n      <td>7</td>\n      <td>1</td>\n      <td>1</td>\n      <td>0.071429</td>\n    </tr>\n    <tr>\n      <th>9</th>\n      <td>1</td>\n      <td>72524</td>\n      <td>A</td>\n      <td>G</td>\n      <td>7</td>\n      <td>1</td>\n      <td>1</td>\n      <td>0.071429</td>\n    </tr>\n    <tr>\n      <th>10</th>\n      <td>1</td>\n      <td>64929</td>\n      <td>G</td>\n      <td>A</td>\n      <td>7</td>\n      <td>1</td>\n      <td>1</td>\n      <td>0.071429</td>\n    </tr>\n    <tr>\n      <th>11</th>\n      <td>1</td>\n      <td>76852</td>\n      <td>A</td>\n      <td>G</td>\n      <td>7</td>\n      <td>1</td>\n      <td>1</td>\n      <td>0.071429</td>\n    </tr>\n    <tr>\n      <th>12</th>\n      <td>1</td>\n      <td>82161</td>\n      <td>G</td>\n      <td>A</td>\n      <td>7</td>\n      <td>1</td>\n      <td>1</td>\n      <td>0.071429</td>\n    </tr>\n    <tr>\n      <th>13</th>\n      <td>1</td>\n      <td>79186</td>\n      <td>G</td>\n      <td>T</td>\n      <td>7</td>\n      <td>1</td>\n      <td>1</td>\n      <td>0.071429</td>\n    </tr>\n    <tr>\n      <th>14</th>\n      <td>1</td>\n      <td>16947</td>\n      <td>A</td>\n      <td>C</td>\n      <td>7</td>\n      <td>1</td>\n      <td>1</td>\n      <td>0.071429</td>\n    </tr>\n    <tr>\n      <th>15</th>\n      <td>1</td>\n      <td>14597</td>\n      <td>T</td>\n      <td>A</td>\n      <td>7</td>\n      <td>1</td>\n      <td>1</td>\n      <td>0.071429</td>\n    </tr>\n    <tr>\n      <th>16</th>\n      <td>1</td>\n      <td>14602</td>\n      <td>A</td>\n      <td>G</td>\n      <td>7</td>\n      <td>1</td>\n      <td>1</td>\n      <td>0.071429</td>\n    </tr>\n    <tr>\n      <th>17</th>\n      <td>1</td>\n      <td>47157</td>\n      <td>T</td>\n      <td>C</td>\n      <td>7</td>\n      <td>1</td>\n      <td>1</td>\n      <td>0.071429</td>\n    </tr>\n    <tr>\n      <th>18</th>\n      <td>1</td>\n      <td>13116</td>\n      <td>A</td>\n      <td>G</td>\n      <td>7</td>\n      <td>1</td>\n      <td>1</td>\n      <td>0.071429</td>\n    </tr>\n    <tr>\n      <th>19</th>\n      <td>1</td>\n      <td>58812</td>\n      <td>G</td>\n      <td>A</td>\n      <td>7</td>\n      <td>1</td>\n      <td>1</td>\n      <td>0.071429</td>\n    </tr>\n    <tr>\n      <th>20</th>\n      <td>1</td>\n      <td>68338</td>\n      <td>G</td>\n      <td>C</td>\n      <td>7</td>\n      <td>1</td>\n      <td>1</td>\n      <td>0.071429</td>\n    </tr>\n    <tr>\n      <th>21</th>\n      <td>1</td>\n      <td>55403</td>\n      <td>C</td>\n      <td>T</td>\n      <td>7</td>\n      <td>1</td>\n      <td>1</td>\n      <td>0.071429</td>\n    </tr>\n    <tr>\n      <th>22</th>\n      <td>1</td>\n      <td>64516</td>\n      <td>G</td>\n      <td>T</td>\n      <td>7</td>\n      <td>1</td>\n      <td>1</td>\n      <td>0.071429</td>\n    </tr>\n    <tr>\n      <th>23</th>\n      <td>1</td>\n      <td>54589</td>\n      <td>A</td>\n      <td>G</td>\n      <td>7</td>\n      <td>1</td>\n      <td>1</td>\n      <td>0.071429</td>\n    </tr>\n    <tr>\n      <th>24</th>\n      <td>1</td>\n      <td>54710</td>\n      <td>T</td>\n      <td>C</td>\n      <td>7</td>\n      <td>1</td>\n      <td>1</td>\n      <td>0.071429</td>\n    </tr>\n    <tr>\n      <th>25</th>\n      <td>1</td>\n      <td>60349</td>\n      <td>A</td>\n      <td>G</td>\n      <td>7</td>\n      <td>1</td>\n      <td>1</td>\n      <td>0.071429</td>\n    </tr>\n    <tr>\n      <th>26</th>\n      <td>1</td>\n      <td>74788</td>\n      <td>C</td>\n      <td>G</td>\n      <td>7</td>\n      <td>1</td>\n      <td>1</td>\n      <td>0.071429</td>\n    </tr>\n    <tr>\n      <th>27</th>\n      <td>1</td>\n      <td>57290</td>\n      <td>C</td>\n      <td>T</td>\n      <td>7</td>\n      <td>1</td>\n      <td>1</td>\n      <td>0.071429</td>\n    </tr>\n    <tr>\n      <th>28</th>\n      <td>1</td>\n      <td>55324</td>\n      <td>T</td>\n      <td>C</td>\n      <td>7</td>\n      <td>1</td>\n      <td>1</td>\n      <td>0.071429</td>\n    </tr>\n    <tr>\n      <th>29</th>\n      <td>1</td>\n      <td>89597</td>\n      <td>A</td>\n      <td>T</td>\n      <td>7</td>\n      <td>1</td>\n      <td>1</td>\n      <td>0.071429</td>\n    </tr>\n  </tbody>\n</table>\n</div>"
     },
     "metadata": {},
     "execution_count": 36
    }
   ],
   "source": [
    "import pandas as pd\n",
    "from matplotlib import pyplot as plt\n",
    "columns = response_body['columns']\n",
    "rows = response_body['rows']\n",
    "df = pd.DataFrame.from_records(rows, columns=columns)\n",
    "df.fillna(value='', inplace=True)   # replace Nones with empty values\n",
    "\n",
    "df"
   ]
  },
  {
   "cell_type": "code",
   "execution_count": null,
   "metadata": {},
   "outputs": [],
   "source": []
  }
 ],
 "metadata": {
  "kernelspec": {
   "display_name": "Python 3",
   "language": "python",
   "name": "python3"
  },
  "language_info": {
   "codemirror_mode": {
    "name": "ipython",
    "version": 3
   },
   "file_extension": ".py",
   "mimetype": "text/x-python",
   "name": "python",
   "nbconvert_exporter": "python",
   "pygments_lexer": "ipython3",
   "version": "3.7.4-final"
  }
 },
 "nbformat": 4,
 "nbformat_minor": 2
}