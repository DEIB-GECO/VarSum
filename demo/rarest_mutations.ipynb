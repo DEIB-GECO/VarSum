{
 "cells": [
  {
   "cell_type": "markdown",
   "metadata": {},
   "source": [
    "# Run the server script from package data_summarization_1KGP"
   ]
  },
  {
   "cell_type": "markdown",
   "metadata": {},
   "source": [
    "Prepare the request parameter for selecting only the female individuals from Bangladesh having the mutations:\n",
    "(chromosome):(start)-(alternative allele)\n",
    " 1:13271-C \n",
    " 1:15272-T\n",
    " 1:10176-C \n",
    " aligned on assembly hg19. \n",
    "\n",
    "The sample set selected like so contains 7 individuals and ⁓31.5 millions variants esitimated. We can query /rarest_mutations for this sample set and get a response in ⁓2.5 minutes."
   ]
  },
  {
   "cell_type": "code",
   "execution_count": 1,
   "metadata": {},
   "outputs": [
    {
     "name": "stdout",
     "output_type": "stream",
     "text": "{\"meta\": {\"health_status\": \"true\", \"population\": [\"BEB\"], \"gender\": \"female\", \"assembly\": \"hg19\"}, \"variants\": {\"with\": [{\"chrom\": 1, \"start\": 13271, \"alt\": \"C\"}, {\"chrom\": 1, \"start\": 15272, \"alt\": \"T\"}, {\"chrom\": 1, \"start\": 10176, \"alt\": \"C\"}]}}\n"
    }
   ],
   "source": [
    "import json\n",
    "param = \\\n",
    "{'meta': {\n",
    "    'health_status': \"true\",\n",
    "    'population': ['BEB'],\n",
    "    'gender': 'female',\n",
    "    'assembly': 'hg19'\n",
    "    },\n",
    " 'variants': {\n",
    "     'with': [{'chrom': 1, 'start': 13271, 'alt':'C'}, {'chrom': 1, 'start': 15272, 'alt': 'T'}, {'chrom': 1, 'start': 10176, 'alt': 'C'}]\n",
    " }\n",
    "}\n",
    "body = json.dumps(param)\n",
    "print(body)"
   ]
  },
  {
   "cell_type": "markdown",
   "metadata": {},
   "source": [
    "POST the endpoint \\rarest_mutations with the prepared JSON parameter"
   ]
  },
  {
   "cell_type": "code",
   "execution_count": 4,
   "metadata": {},
   "outputs": [
    {
     "name": "stdout",
     "output_type": "stream",
     "text": "response status code: 200\n"
    }
   ],
   "source": [
    "import requests\n",
    "\n",
    "r = requests.post('http://127.0.0.1:5000/rarest_mutations', json=param)\n",
    "print(' response status code: {}'.format(r.status_code))\n",
    "response_body = r.json()"
   ]
  },
  {
   "cell_type": "markdown",
   "metadata": {},
   "source": [
    "# Inspect response data:\n",
    "The response includes the five rarest mutations from the selected sample set, ordered by increasing frequency."
   ]
  },
  {
   "cell_type": "code",
   "execution_count": 5,
   "metadata": {},
   "outputs": [
    {
     "data": {
      "text/html": "<div>\n<style scoped>\n    .dataframe tbody tr th:only-of-type {\n        vertical-align: middle;\n    }\n\n    .dataframe tbody tr th {\n        vertical-align: top;\n    }\n\n    .dataframe thead th {\n        text-align: right;\n    }\n</style>\n<table border=\"1\" class=\"dataframe\">\n  <thead>\n    <tr style=\"text-align: right;\">\n      <th></th>\n      <th>chrom</th>\n      <th>start</th>\n      <th>alt</th>\n      <th>occurrence</th>\n      <th>samples</th>\n      <th>frequency</th>\n    </tr>\n  </thead>\n  <tbody>\n    <tr>\n      <th>0</th>\n      <td>1</td>\n      <td>207237232</td>\n      <td>GT</td>\n      <td>0</td>\n      <td>9</td>\n      <td>0.0</td>\n    </tr>\n    <tr>\n      <th>1</th>\n      <td>1</td>\n      <td>207237231</td>\n      <td>T</td>\n      <td>0</td>\n      <td>3</td>\n      <td>0.0</td>\n    </tr>\n    <tr>\n      <th>2</th>\n      <td>2</td>\n      <td>91811942</td>\n      <td>T</td>\n      <td>42</td>\n      <td>42</td>\n      <td>0.5</td>\n    </tr>\n    <tr>\n      <th>3</th>\n      <td>4</td>\n      <td>73933670</td>\n      <td></td>\n      <td>42</td>\n      <td>42</td>\n      <td>0.5</td>\n    </tr>\n    <tr>\n      <th>4</th>\n      <td>5</td>\n      <td>175346526</td>\n      <td>T</td>\n      <td>42</td>\n      <td>42</td>\n      <td>0.5</td>\n    </tr>\n  </tbody>\n</table>\n</div>",
      "text/plain": "   chrom      start alt  occurrence  samples  frequency\n0      1  207237232  GT           0        9        0.0\n1      1  207237231   T           0        3        0.0\n2      2   91811942   T          42       42        0.5\n3      4   73933670              42       42        0.5\n4      5  175346526   T          42       42        0.5"
     },
     "execution_count": 5,
     "metadata": {},
     "output_type": "execute_result"
    }
   ],
   "source": [
    "import pandas as pd\n",
    "from matplotlib import pyplot as plt\n",
    "columns = response_body['columns']\n",
    "rows = response_body['rows']\n",
    "df = pd.DataFrame.from_records(rows, columns=columns)\n",
    "\n",
    "# clean data: removes rows with dna_source = '' beacuse they're wrong; replaces None with ''\n",
    "df.fillna(value='', inplace=True)\n",
    "\n",
    "df"
   ]
  },
  {
   "cell_type": "code",
   "execution_count": null,
   "metadata": {},
   "outputs": [],
   "source": []
  }
 ],
 "metadata": {
  "kernelspec": {
   "display_name": "Python 3",
   "language": "python",
   "name": "python3"
  },
  "language_info": {
   "codemirror_mode": {
    "name": "ipython",
    "version": 3
   },
   "file_extension": ".py",
   "mimetype": "text/x-python",
   "name": "python",
   "nbconvert_exporter": "python",
   "pygments_lexer": "ipython3",
   "version": "3.7.6-final"
  }
 },
 "nbformat": 4,
 "nbformat_minor": 2
}